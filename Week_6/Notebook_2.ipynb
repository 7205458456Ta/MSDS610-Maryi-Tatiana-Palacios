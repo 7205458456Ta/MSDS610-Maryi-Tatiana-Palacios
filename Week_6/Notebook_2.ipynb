{
 "cells": [
  {
   "cell_type": "code",
   "execution_count": 3,
   "id": "2acf076d",
   "metadata": {},
   "outputs": [],
   "source": [
    "import pandas as pd\n",
    "df = pd.read_csv('ObesityData2.csv')"
   ]
  },
  {
   "cell_type": "code",
   "execution_count": 5,
   "id": "b01071ef",
   "metadata": {},
   "outputs": [
    {
     "name": "stdout",
     "output_type": "stream",
     "text": [
      "   Gender   Age  Height  Weight  family_history_with_overweight  FAVC  FCVC  \\\n",
      "0       0  21.0    1.62    64.0                               1     0   2.0   \n",
      "1       0  21.0    1.52    56.0                               1     0   3.0   \n",
      "2       1  23.0    1.80    77.0                               1     0   2.0   \n",
      "3       1  27.0    1.80    87.0                               0     0   3.0   \n",
      "4       1  22.0    1.78    89.8                               0     0   2.0   \n",
      "\n",
      "   NCP  CAEC  SMOKE  ...  SCC  FAF  TUE  CALC  MTRANS  NObeyesdad  \\\n",
      "0  3.0     1      0  ...    0  0.0  1.0     0       0           0   \n",
      "1  3.0     1      1  ...    1  3.0  0.0     1       0           0   \n",
      "2  3.0     1      0  ...    0  2.0  1.0     2       0           0   \n",
      "3  3.0     1      0  ...    0  2.0  0.0     2       1           1   \n",
      "4  1.0     1      0  ...    0  0.0  0.0     1       0           2   \n",
      "\n",
      "           BMI  Water_Calories_Ratio  CAEC_IMC_Relationship  \\\n",
      "0  243865.2644                   0.0            243865.2644   \n",
      "1  242382.2715                   3.0            242382.2715   \n",
      "2  237654.3210                   0.0            237654.3210   \n",
      "3  268518.5185                   0.0            268518.5185   \n",
      "4  283423.8101                   0.0            283423.8101   \n",
      "\n",
      "   Alcohol_Smoke_Ratio  \n",
      "0                  0.0  \n",
      "1                  0.0  \n",
      "2                  0.0  \n",
      "3                  0.0  \n",
      "4                  0.0  \n",
      "\n",
      "[5 rows x 21 columns]\n"
     ]
    }
   ],
   "source": [
    "print(df.head())"
   ]
  },
  {
   "cell_type": "code",
   "execution_count": 11,
   "id": "613c463f",
   "metadata": {},
   "outputs": [],
   "source": [
    "X = df[['FCVC', 'NCP', 'CH2O', 'FAF', 'BMI', 'Alcohol_Smoke_Ratio']]\n",
    "y = df['NObeyesdad'] \n",
    "\n",
    "from sklearn.model_selection import train_test_split\n",
    "\n",
    "X_train, X_temp, y_train, y_temp = train_test_split(X, y, test_size=0.4, random_state=42)\n",
    "X_val, X_test, y_val, y_test = train_test_split(X_temp, y_temp, test_size=0.5, random_state=42)\n"
   ]
  },
  {
   "cell_type": "code",
   "execution_count": 12,
   "id": "20ee5cd4",
   "metadata": {},
   "outputs": [],
   "source": [
    "import joblib\n",
    "\n",
    "model = joblib.load('random_forest_model_with_selected_features.pkl')\n"
   ]
  },
  {
   "cell_type": "code",
   "execution_count": 13,
   "id": "47a93ae2",
   "metadata": {},
   "outputs": [
    {
     "name": "stdout",
     "output_type": "stream",
     "text": [
      "Random Forest Accuracy on Validation Set: 0.9784172661870504\n"
     ]
    }
   ],
   "source": [
    "val_predictions = model.predict(X_val)\n",
    "\n",
    "from sklearn.metrics import accuracy_score\n",
    "val_accuracy = accuracy_score(y_val, val_predictions)\n",
    "print(\"Random Forest Accuracy on Validation Set:\", val_accuracy)\n"
   ]
  },
  {
   "cell_type": "code",
   "execution_count": 15,
   "id": "62268a02",
   "metadata": {},
   "outputs": [],
   "source": [
    "import psycopg2\n",
    "import pandas as pd"
   ]
  },
  {
   "cell_type": "code",
   "execution_count": 16,
   "id": "a020e8fa",
   "metadata": {},
   "outputs": [],
   "source": [
    "from sqlalchemy import create_engine"
   ]
  },
  {
   "cell_type": "code",
   "execution_count": 17,
   "id": "7ff63589",
   "metadata": {},
   "outputs": [],
   "source": [
    "host = r'127.0.0.1' \n",
    "db = r'MSDS610' \n",
    "user = r'postgres' \n",
    "pw = r'7205458456' \n",
    "port = r'5432' "
   ]
  },
  {
   "cell_type": "code",
   "execution_count": 18,
   "id": "1cd9a2ab",
   "metadata": {},
   "outputs": [],
   "source": [
    "db_conn = create_engine(\"postgresql://{}:{}@{}:{}/{}\".format(user, pw, host, port, db))"
   ]
  },
  {
   "cell_type": "code",
   "execution_count": 21,
   "id": "2a18a1dc",
   "metadata": {},
   "outputs": [],
   "source": [
    "predictions_df = pd.DataFrame({\n",
    "    'true_labels': y_val,      \n",
    "    'val_predictions': val_predictions \n",
    "})"
   ]
  },
  {
   "cell_type": "code",
   "execution_count": 23,
   "id": "7b7233ee",
   "metadata": {},
   "outputs": [
    {
     "name": "stdout",
     "output_type": "stream",
     "text": [
      "Predictions have been successfully stored in the database.\n"
     ]
    }
   ],
   "source": [
    "predictions_df.to_sql('validation_predictions', con=db_conn, schema='Analytics', if_exists='replace', index=False)\n",
    "\n",
    "print(\"Predictions have been successfully stored in the database.\")"
   ]
  },
  {
   "cell_type": "code",
   "execution_count": 25,
   "id": "1678de09",
   "metadata": {},
   "outputs": [
    {
     "name": "stdout",
     "output_type": "stream",
     "text": [
      "Total predictions: 417\n",
      "Correct predictions: 408\n",
      "Incorrect predictions: 9\n"
     ]
    }
   ],
   "source": [
    "import numpy as np\n",
    "\n",
    "correct_predictions = np.sum(val_predictions == y_val)  \n",
    "incorrect_predictions = np.sum(val_predictions != y_val) \n",
    "\n",
    "total_predictions = len(y_val)\n",
    "\n",
    "print(f\"Total predictions: {total_predictions}\")\n",
    "print(f\"Correct predictions: {correct_predictions}\")\n",
    "print(f\"Incorrect predictions: {incorrect_predictions}\")\n"
   ]
  },
  {
   "cell_type": "code",
   "execution_count": 26,
   "id": "542ae67b",
   "metadata": {},
   "outputs": [
    {
     "name": "stdout",
     "output_type": "stream",
     "text": [
      "Model Accuracy on Validation Set: 97.84%\n"
     ]
    }
   ],
   "source": [
    "accuracy = correct_predictions / total_predictions\n",
    "print(f\"Model Accuracy on Validation Set: {accuracy * 100:.2f}%\")"
   ]
  },
  {
   "cell_type": "code",
   "execution_count": 27,
   "id": "4aa83a01",
   "metadata": {},
   "outputs": [
    {
     "name": "stdout",
     "output_type": "stream",
     "text": [
      "Confusion Matrix:\n",
      "[[63  0  0  0  0  0  1]\n",
      " [ 1 54  0  0  0  0  0]\n",
      " [ 0  3 55  0  0  0  0]\n",
      " [ 0  0  1 60  2  0  0]\n",
      " [ 0  0  0  0 61  0  0]\n",
      " [ 0  0  0  0  0 64  0]\n",
      " [ 1  0  0  0  0  0 51]]\n"
     ]
    }
   ],
   "source": [
    "from sklearn.metrics import confusion_matrix\n",
    "cm = confusion_matrix(y_val, val_predictions)\n",
    "print(\"Confusion Matrix:\")\n",
    "print(cm)"
   ]
  },
  {
   "cell_type": "markdown",
   "id": "3788d7eb",
   "metadata": {},
   "source": [
    "In this new notebook, I started by loading the dataset and selected the features that performed best with the Random Forest model: 'FCVC', 'NCP', 'CH2O', 'FAF', 'BMI', and 'Alcohol_Smoke_Ratio', with the target variable being 'NObeyesdad'. After splitting the data into training, validation, and test sets, I loaded the previously saved Random Forest model using joblib.\n",
    "\n",
    "Next, I used the model to predict the validation set and calculated the accuracy, which was 97.84%. I then created a DataFrame to store the true labels and predictions, and stored this DataFrame in a database schema called Analytics in the MSDS610 database.\n",
    "\n",
    "Finally, I analyzed the prediction results by calculating the number of correct and incorrect predictions, which showed that out of 417 predictions, 408 were correct, and 9 were incorrect. I also displayed the confusion matrix to further evaluate the model’s performance on the validation set.\n",
    "\n",
    "The predictions were successfully stored in the database, and the model achieved an impressive accuracy on the validation set, demonstrating its effectiveness in classifying obesity levels."
   ]
  }
 ],
 "metadata": {
  "kernelspec": {
   "display_name": "Python 3",
   "language": "python",
   "name": "python3"
  },
  "language_info": {
   "codemirror_mode": {
    "name": "ipython",
    "version": 3
   },
   "file_extension": ".py",
   "mimetype": "text/x-python",
   "name": "python",
   "nbconvert_exporter": "python",
   "pygments_lexer": "ipython3",
   "version": "3.9.6"
  }
 },
 "nbformat": 4,
 "nbformat_minor": 5
}
