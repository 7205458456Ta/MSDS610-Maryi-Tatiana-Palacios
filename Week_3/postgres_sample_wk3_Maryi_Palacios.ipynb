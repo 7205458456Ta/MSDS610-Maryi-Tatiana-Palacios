{
 "cells": [
  {
   "cell_type": "markdown",
   "id": "8cd5efa0-c7be-4849-9aec-2bb3e940e513",
   "metadata": {},
   "source": [
    "Cleaning and Storing Data"
   ]
  },
  {
   "cell_type": "code",
   "execution_count": 1,
   "id": "b2a28d44-9bbd-445e-8535-07d1054d177d",
   "metadata": {},
   "outputs": [],
   "source": [
    "import seaborn as sns\n",
    "import pandas as pd\n",
    "import numpy as np"
   ]
  },
  {
   "cell_type": "code",
   "execution_count": 2,
   "id": "b18bdbb8-0250-456a-b334-ed5e8a7ce6c6",
   "metadata": {},
   "outputs": [],
   "source": [
    "from sqlalchemy import create_engine"
   ]
  },
  {
   "cell_type": "code",
   "execution_count": 3,
   "id": "b729a380-fe4e-4f50-96ec-892b8126d0b8",
   "metadata": {},
   "outputs": [],
   "source": [
    "# Note:: The make sure you use the information from your specific PostgreSQL installation\n",
    "host = r'127.0.0.1' # denotes that the db in a local installation\n",
    "db = r'MSDS610' # db we just created\n",
    "user = r'postgres' # using the postgres user for this demo\n",
    "pw = r'7205458456' # this is the password established during installation\n",
    "port = r'5432' # default port estabalished during install"
   ]
  },
  {
   "cell_type": "code",
   "execution_count": 4,
   "id": "34b69a3a-2b6e-4b64-8400-6ccde71e39bc",
   "metadata": {},
   "outputs": [],
   "source": [
    "db_conn = create_engine(\"postgresql://{}:{}@{}:{}/{}\".format(user, pw, host, port, db))"
   ]
  },
  {
   "cell_type": "code",
   "execution_count": null,
   "id": "16587f04",
   "metadata": {},
   "outputs": [
    {
     "name": "stdout",
     "output_type": "stream",
     "text": [
      "(1,)\n"
     ]
    }
   ],
   "source": [
    "from sqlalchemy import text\n",
    "\n",
    "with db_conn.connect() as connection:\n",
    "    result = connection.execute(text(\"SELECT 1\"))\n",
    "    print(result.fetchone())\n",
    "\n"
   ]
  },
  {
   "cell_type": "code",
   "execution_count": 6,
   "id": "4d5a6a65-6bc2-4c05-a569-5a96815fedff",
   "metadata": {},
   "outputs": [],
   "source": [
    "table_name = r'Obesity_data'\n",
    "schema = r'raw' # schema were the data was loaded last week.\n",
    "\n",
    "df = pd.read_sql_table(table_name, db_conn, schema)"
   ]
  },
  {
   "cell_type": "code",
   "execution_count": 9,
   "id": "1bb30e3a-322c-41ad-b2bc-53606d24f80f",
   "metadata": {},
   "outputs": [
    {
     "name": "stdout",
     "output_type": "stream",
     "text": [
      "<class 'pandas.core.frame.DataFrame'>\n",
      "RangeIndex: 2111 entries, 0 to 2110\n",
      "Data columns (total 17 columns):\n",
      " #   Column                          Non-Null Count  Dtype  \n",
      "---  ------                          --------------  -----  \n",
      " 0   Gender                          2111 non-null   object \n",
      " 1   Age                             2111 non-null   float64\n",
      " 2   Height                          2111 non-null   float64\n",
      " 3   Weight                          2111 non-null   float64\n",
      " 4   family_history_with_overweight  2111 non-null   object \n",
      " 5   FAVC                            2111 non-null   object \n",
      " 6   FCVC                            2111 non-null   float64\n",
      " 7   NCP                             2111 non-null   float64\n",
      " 8   CAEC                            2111 non-null   object \n",
      " 9   SMOKE                           2111 non-null   object \n",
      " 10  CH2O                            2111 non-null   float64\n",
      " 11  SCC                             2111 non-null   object \n",
      " 12  FAF                             2111 non-null   float64\n",
      " 13  TUE                             2111 non-null   float64\n",
      " 14  CALC                            2111 non-null   object \n",
      " 15  MTRANS                          2111 non-null   object \n",
      " 16  NObeyesdad                      2111 non-null   object \n",
      "dtypes: float64(8), object(9)\n",
      "memory usage: 280.5+ KB\n"
     ]
    }
   ],
   "source": [
    "df.info()"
   ]
  },
  {
   "cell_type": "code",
   "execution_count": 10,
   "id": "93477d88-99d6-49b0-8f29-f1ee674ba0e7",
   "metadata": {},
   "outputs": [
    {
     "data": {
      "text/html": [
       "<div>\n",
       "<style scoped>\n",
       "    .dataframe tbody tr th:only-of-type {\n",
       "        vertical-align: middle;\n",
       "    }\n",
       "\n",
       "    .dataframe tbody tr th {\n",
       "        vertical-align: top;\n",
       "    }\n",
       "\n",
       "    .dataframe thead th {\n",
       "        text-align: right;\n",
       "    }\n",
       "</style>\n",
       "<table border=\"1\" class=\"dataframe\">\n",
       "  <thead>\n",
       "    <tr style=\"text-align: right;\">\n",
       "      <th></th>\n",
       "      <th>Gender</th>\n",
       "      <th>Age</th>\n",
       "      <th>Height</th>\n",
       "      <th>Weight</th>\n",
       "      <th>family_history_with_overweight</th>\n",
       "      <th>FAVC</th>\n",
       "      <th>FCVC</th>\n",
       "      <th>NCP</th>\n",
       "      <th>CAEC</th>\n",
       "      <th>SMOKE</th>\n",
       "      <th>CH2O</th>\n",
       "      <th>SCC</th>\n",
       "      <th>FAF</th>\n",
       "      <th>TUE</th>\n",
       "      <th>CALC</th>\n",
       "      <th>MTRANS</th>\n",
       "      <th>NObeyesdad</th>\n",
       "    </tr>\n",
       "  </thead>\n",
       "  <tbody>\n",
       "    <tr>\n",
       "      <th>0</th>\n",
       "      <td>Female</td>\n",
       "      <td>21.0</td>\n",
       "      <td>1.62</td>\n",
       "      <td>64.0</td>\n",
       "      <td>yes</td>\n",
       "      <td>no</td>\n",
       "      <td>2.0</td>\n",
       "      <td>3.0</td>\n",
       "      <td>Sometimes</td>\n",
       "      <td>no</td>\n",
       "      <td>2.0</td>\n",
       "      <td>no</td>\n",
       "      <td>0.0</td>\n",
       "      <td>1.0</td>\n",
       "      <td>no</td>\n",
       "      <td>Public_Transportation</td>\n",
       "      <td>Normal_Weight</td>\n",
       "    </tr>\n",
       "    <tr>\n",
       "      <th>1</th>\n",
       "      <td>Female</td>\n",
       "      <td>21.0</td>\n",
       "      <td>1.52</td>\n",
       "      <td>56.0</td>\n",
       "      <td>yes</td>\n",
       "      <td>no</td>\n",
       "      <td>3.0</td>\n",
       "      <td>3.0</td>\n",
       "      <td>Sometimes</td>\n",
       "      <td>yes</td>\n",
       "      <td>3.0</td>\n",
       "      <td>yes</td>\n",
       "      <td>3.0</td>\n",
       "      <td>0.0</td>\n",
       "      <td>Sometimes</td>\n",
       "      <td>Public_Transportation</td>\n",
       "      <td>Normal_Weight</td>\n",
       "    </tr>\n",
       "    <tr>\n",
       "      <th>2</th>\n",
       "      <td>Male</td>\n",
       "      <td>23.0</td>\n",
       "      <td>1.80</td>\n",
       "      <td>77.0</td>\n",
       "      <td>yes</td>\n",
       "      <td>no</td>\n",
       "      <td>2.0</td>\n",
       "      <td>3.0</td>\n",
       "      <td>Sometimes</td>\n",
       "      <td>no</td>\n",
       "      <td>2.0</td>\n",
       "      <td>no</td>\n",
       "      <td>2.0</td>\n",
       "      <td>1.0</td>\n",
       "      <td>Frequently</td>\n",
       "      <td>Public_Transportation</td>\n",
       "      <td>Normal_Weight</td>\n",
       "    </tr>\n",
       "    <tr>\n",
       "      <th>3</th>\n",
       "      <td>Male</td>\n",
       "      <td>27.0</td>\n",
       "      <td>1.80</td>\n",
       "      <td>87.0</td>\n",
       "      <td>no</td>\n",
       "      <td>no</td>\n",
       "      <td>3.0</td>\n",
       "      <td>3.0</td>\n",
       "      <td>Sometimes</td>\n",
       "      <td>no</td>\n",
       "      <td>2.0</td>\n",
       "      <td>no</td>\n",
       "      <td>2.0</td>\n",
       "      <td>0.0</td>\n",
       "      <td>Frequently</td>\n",
       "      <td>Walking</td>\n",
       "      <td>Overweight_Level_I</td>\n",
       "    </tr>\n",
       "    <tr>\n",
       "      <th>4</th>\n",
       "      <td>Male</td>\n",
       "      <td>22.0</td>\n",
       "      <td>1.78</td>\n",
       "      <td>89.8</td>\n",
       "      <td>no</td>\n",
       "      <td>no</td>\n",
       "      <td>2.0</td>\n",
       "      <td>1.0</td>\n",
       "      <td>Sometimes</td>\n",
       "      <td>no</td>\n",
       "      <td>2.0</td>\n",
       "      <td>no</td>\n",
       "      <td>0.0</td>\n",
       "      <td>0.0</td>\n",
       "      <td>Sometimes</td>\n",
       "      <td>Public_Transportation</td>\n",
       "      <td>Overweight_Level_II</td>\n",
       "    </tr>\n",
       "    <tr>\n",
       "      <th>5</th>\n",
       "      <td>Male</td>\n",
       "      <td>29.0</td>\n",
       "      <td>1.62</td>\n",
       "      <td>53.0</td>\n",
       "      <td>no</td>\n",
       "      <td>yes</td>\n",
       "      <td>2.0</td>\n",
       "      <td>3.0</td>\n",
       "      <td>Sometimes</td>\n",
       "      <td>no</td>\n",
       "      <td>2.0</td>\n",
       "      <td>no</td>\n",
       "      <td>0.0</td>\n",
       "      <td>0.0</td>\n",
       "      <td>Sometimes</td>\n",
       "      <td>Automobile</td>\n",
       "      <td>Normal_Weight</td>\n",
       "    </tr>\n",
       "    <tr>\n",
       "      <th>6</th>\n",
       "      <td>Female</td>\n",
       "      <td>23.0</td>\n",
       "      <td>1.50</td>\n",
       "      <td>55.0</td>\n",
       "      <td>yes</td>\n",
       "      <td>yes</td>\n",
       "      <td>3.0</td>\n",
       "      <td>3.0</td>\n",
       "      <td>Sometimes</td>\n",
       "      <td>no</td>\n",
       "      <td>2.0</td>\n",
       "      <td>no</td>\n",
       "      <td>1.0</td>\n",
       "      <td>0.0</td>\n",
       "      <td>Sometimes</td>\n",
       "      <td>Motorbike</td>\n",
       "      <td>Normal_Weight</td>\n",
       "    </tr>\n",
       "    <tr>\n",
       "      <th>7</th>\n",
       "      <td>Male</td>\n",
       "      <td>22.0</td>\n",
       "      <td>1.64</td>\n",
       "      <td>53.0</td>\n",
       "      <td>no</td>\n",
       "      <td>no</td>\n",
       "      <td>2.0</td>\n",
       "      <td>3.0</td>\n",
       "      <td>Sometimes</td>\n",
       "      <td>no</td>\n",
       "      <td>2.0</td>\n",
       "      <td>no</td>\n",
       "      <td>3.0</td>\n",
       "      <td>0.0</td>\n",
       "      <td>Sometimes</td>\n",
       "      <td>Public_Transportation</td>\n",
       "      <td>Normal_Weight</td>\n",
       "    </tr>\n",
       "    <tr>\n",
       "      <th>8</th>\n",
       "      <td>Male</td>\n",
       "      <td>24.0</td>\n",
       "      <td>1.78</td>\n",
       "      <td>64.0</td>\n",
       "      <td>yes</td>\n",
       "      <td>yes</td>\n",
       "      <td>3.0</td>\n",
       "      <td>3.0</td>\n",
       "      <td>Sometimes</td>\n",
       "      <td>no</td>\n",
       "      <td>2.0</td>\n",
       "      <td>no</td>\n",
       "      <td>1.0</td>\n",
       "      <td>1.0</td>\n",
       "      <td>Frequently</td>\n",
       "      <td>Public_Transportation</td>\n",
       "      <td>Normal_Weight</td>\n",
       "    </tr>\n",
       "    <tr>\n",
       "      <th>9</th>\n",
       "      <td>Male</td>\n",
       "      <td>22.0</td>\n",
       "      <td>1.72</td>\n",
       "      <td>68.0</td>\n",
       "      <td>yes</td>\n",
       "      <td>yes</td>\n",
       "      <td>2.0</td>\n",
       "      <td>3.0</td>\n",
       "      <td>Sometimes</td>\n",
       "      <td>no</td>\n",
       "      <td>2.0</td>\n",
       "      <td>no</td>\n",
       "      <td>1.0</td>\n",
       "      <td>1.0</td>\n",
       "      <td>no</td>\n",
       "      <td>Public_Transportation</td>\n",
       "      <td>Normal_Weight</td>\n",
       "    </tr>\n",
       "  </tbody>\n",
       "</table>\n",
       "</div>"
      ],
      "text/plain": [
       "   Gender   Age  Height  Weight family_history_with_overweight FAVC  FCVC  \\\n",
       "0  Female  21.0    1.62    64.0                            yes   no   2.0   \n",
       "1  Female  21.0    1.52    56.0                            yes   no   3.0   \n",
       "2    Male  23.0    1.80    77.0                            yes   no   2.0   \n",
       "3    Male  27.0    1.80    87.0                             no   no   3.0   \n",
       "4    Male  22.0    1.78    89.8                             no   no   2.0   \n",
       "5    Male  29.0    1.62    53.0                             no  yes   2.0   \n",
       "6  Female  23.0    1.50    55.0                            yes  yes   3.0   \n",
       "7    Male  22.0    1.64    53.0                             no   no   2.0   \n",
       "8    Male  24.0    1.78    64.0                            yes  yes   3.0   \n",
       "9    Male  22.0    1.72    68.0                            yes  yes   2.0   \n",
       "\n",
       "   NCP       CAEC SMOKE  CH2O  SCC  FAF  TUE        CALC  \\\n",
       "0  3.0  Sometimes    no   2.0   no  0.0  1.0          no   \n",
       "1  3.0  Sometimes   yes   3.0  yes  3.0  0.0   Sometimes   \n",
       "2  3.0  Sometimes    no   2.0   no  2.0  1.0  Frequently   \n",
       "3  3.0  Sometimes    no   2.0   no  2.0  0.0  Frequently   \n",
       "4  1.0  Sometimes    no   2.0   no  0.0  0.0   Sometimes   \n",
       "5  3.0  Sometimes    no   2.0   no  0.0  0.0   Sometimes   \n",
       "6  3.0  Sometimes    no   2.0   no  1.0  0.0   Sometimes   \n",
       "7  3.0  Sometimes    no   2.0   no  3.0  0.0   Sometimes   \n",
       "8  3.0  Sometimes    no   2.0   no  1.0  1.0  Frequently   \n",
       "9  3.0  Sometimes    no   2.0   no  1.0  1.0          no   \n",
       "\n",
       "                  MTRANS           NObeyesdad  \n",
       "0  Public_Transportation        Normal_Weight  \n",
       "1  Public_Transportation        Normal_Weight  \n",
       "2  Public_Transportation        Normal_Weight  \n",
       "3                Walking   Overweight_Level_I  \n",
       "4  Public_Transportation  Overweight_Level_II  \n",
       "5             Automobile        Normal_Weight  \n",
       "6              Motorbike        Normal_Weight  \n",
       "7  Public_Transportation        Normal_Weight  \n",
       "8  Public_Transportation        Normal_Weight  \n",
       "9  Public_Transportation        Normal_Weight  "
      ]
     },
     "execution_count": 10,
     "metadata": {},
     "output_type": "execute_result"
    }
   ],
   "source": [
    "df.head(10)"
   ]
  },
  {
   "cell_type": "code",
   "execution_count": 12,
   "id": "0f4e0a16",
   "metadata": {},
   "outputs": [
    {
     "name": "stdout",
     "output_type": "stream",
     "text": [
      "Found 24 duplicate rows.\n",
      "     Gender   Age  Height  Weight family_history_with_overweight FAVC  FCVC  \\\n",
      "98   Female  21.0    1.52    42.0                             no   no   3.0   \n",
      "106  Female  25.0    1.57    55.0                             no  yes   2.0   \n",
      "174    Male  21.0    1.62    70.0                             no  yes   2.0   \n",
      "179    Male  21.0    1.62    70.0                             no  yes   2.0   \n",
      "184    Male  21.0    1.62    70.0                             no  yes   2.0   \n",
      "209  Female  22.0    1.69    65.0                            yes  yes   2.0   \n",
      "309  Female  16.0    1.66    58.0                             no   no   2.0   \n",
      "460  Female  18.0    1.62    55.0                            yes  yes   2.0   \n",
      "467    Male  22.0    1.74    75.0                            yes  yes   3.0   \n",
      "496    Male  18.0    1.72    53.0                            yes  yes   2.0   \n",
      "528  Female  21.0    1.52    42.0                             no  yes   3.0   \n",
      "660  Female  21.0    1.52    42.0                             no  yes   3.0   \n",
      "664  Female  21.0    1.52    42.0                             no  yes   3.0   \n",
      "764    Male  21.0    1.62    70.0                             no  yes   2.0   \n",
      "765    Male  21.0    1.62    70.0                             no  yes   2.0   \n",
      "826    Male  21.0    1.62    70.0                             no  yes   2.0   \n",
      "832    Male  21.0    1.62    70.0                             no  yes   2.0   \n",
      "833    Male  21.0    1.62    70.0                             no  yes   2.0   \n",
      "834    Male  21.0    1.62    70.0                             no  yes   2.0   \n",
      "835    Male  21.0    1.62    70.0                             no  yes   2.0   \n",
      "836    Male  21.0    1.62    70.0                             no  yes   2.0   \n",
      "924    Male  21.0    1.62    70.0                             no  yes   2.0   \n",
      "925    Male  21.0    1.62    70.0                             no  yes   2.0   \n",
      "926    Male  21.0    1.62    70.0                             no  yes   2.0   \n",
      "\n",
      "     NCP        CAEC SMOKE  CH2O SCC  FAF  TUE       CALC  \\\n",
      "98   1.0  Frequently    no   1.0  no  0.0  0.0  Sometimes   \n",
      "106  1.0   Sometimes    no   2.0  no  2.0  0.0  Sometimes   \n",
      "174  1.0          no    no   3.0  no  1.0  0.0  Sometimes   \n",
      "179  1.0          no    no   3.0  no  1.0  0.0  Sometimes   \n",
      "184  1.0          no    no   3.0  no  1.0  0.0  Sometimes   \n",
      "209  3.0   Sometimes    no   2.0  no  1.0  1.0  Sometimes   \n",
      "309  1.0   Sometimes    no   1.0  no  0.0  1.0         no   \n",
      "460  3.0  Frequently    no   1.0  no  1.0  1.0         no   \n",
      "467  3.0  Frequently    no   1.0  no  1.0  0.0         no   \n",
      "496  3.0   Sometimes    no   2.0  no  0.0  2.0  Sometimes   \n",
      "528  1.0  Frequently    no   1.0  no  0.0  0.0  Sometimes   \n",
      "660  1.0  Frequently    no   1.0  no  0.0  0.0  Sometimes   \n",
      "664  1.0  Frequently    no   1.0  no  0.0  0.0  Sometimes   \n",
      "764  1.0          no    no   3.0  no  1.0  0.0  Sometimes   \n",
      "765  1.0          no    no   3.0  no  1.0  0.0  Sometimes   \n",
      "826  1.0          no    no   3.0  no  1.0  0.0  Sometimes   \n",
      "832  1.0          no    no   3.0  no  1.0  0.0  Sometimes   \n",
      "833  1.0          no    no   3.0  no  1.0  0.0  Sometimes   \n",
      "834  1.0          no    no   3.0  no  1.0  0.0  Sometimes   \n",
      "835  1.0          no    no   3.0  no  1.0  0.0  Sometimes   \n",
      "836  1.0          no    no   3.0  no  1.0  0.0  Sometimes   \n",
      "924  1.0          no    no   3.0  no  1.0  0.0  Sometimes   \n",
      "925  1.0          no    no   3.0  no  1.0  0.0  Sometimes   \n",
      "926  1.0          no    no   3.0  no  1.0  0.0  Sometimes   \n",
      "\n",
      "                    MTRANS           NObeyesdad  \n",
      "98   Public_Transportation  Insufficient_Weight  \n",
      "106  Public_Transportation        Normal_Weight  \n",
      "174  Public_Transportation   Overweight_Level_I  \n",
      "179  Public_Transportation   Overweight_Level_I  \n",
      "184  Public_Transportation   Overweight_Level_I  \n",
      "209  Public_Transportation        Normal_Weight  \n",
      "309                Walking        Normal_Weight  \n",
      "460  Public_Transportation        Normal_Weight  \n",
      "467             Automobile        Normal_Weight  \n",
      "496  Public_Transportation  Insufficient_Weight  \n",
      "528  Public_Transportation  Insufficient_Weight  \n",
      "660  Public_Transportation  Insufficient_Weight  \n",
      "664  Public_Transportation  Insufficient_Weight  \n",
      "764  Public_Transportation   Overweight_Level_I  \n",
      "765  Public_Transportation   Overweight_Level_I  \n",
      "826  Public_Transportation   Overweight_Level_I  \n",
      "832  Public_Transportation   Overweight_Level_I  \n",
      "833  Public_Transportation   Overweight_Level_I  \n",
      "834  Public_Transportation   Overweight_Level_I  \n",
      "835  Public_Transportation   Overweight_Level_I  \n",
      "836  Public_Transportation   Overweight_Level_I  \n",
      "924  Public_Transportation   Overweight_Level_I  \n",
      "925  Public_Transportation   Overweight_Level_I  \n",
      "926  Public_Transportation   Overweight_Level_I  \n"
     ]
    }
   ],
   "source": [
    "duplicates = df.duplicated()\n",
    "\n",
    "num_duplicates = duplicates.sum()\n",
    "\n",
    "if num_duplicates > 0:\n",
    "    print(f\"Found {num_duplicates} duplicate rows.\")\n",
    "    print(df[duplicates])\n",
    "else:\n",
    "    print(\"No duplicate rows found.\")\n",
    "\n"
   ]
  },
  {
   "cell_type": "code",
   "execution_count": 13,
   "id": "3e592f59",
   "metadata": {},
   "outputs": [
    {
     "name": "stdout",
     "output_type": "stream",
     "text": [
      "     Gender   Age  Height  Weight family_history_with_overweight FAVC  FCVC  \\\n",
      "97   Female  21.0    1.52    42.0                             no   no   3.0   \n",
      "98   Female  21.0    1.52    42.0                             no   no   3.0   \n",
      "105  Female  25.0    1.57    55.0                             no  yes   2.0   \n",
      "106  Female  25.0    1.57    55.0                             no  yes   2.0   \n",
      "145    Male  21.0    1.62    70.0                             no  yes   2.0   \n",
      "174    Male  21.0    1.62    70.0                             no  yes   2.0   \n",
      "179    Male  21.0    1.62    70.0                             no  yes   2.0   \n",
      "184    Male  21.0    1.62    70.0                             no  yes   2.0   \n",
      "208  Female  22.0    1.69    65.0                            yes  yes   2.0   \n",
      "209  Female  22.0    1.69    65.0                            yes  yes   2.0   \n",
      "282  Female  18.0    1.62    55.0                            yes  yes   2.0   \n",
      "295  Female  16.0    1.66    58.0                             no   no   2.0   \n",
      "309  Female  16.0    1.66    58.0                             no   no   2.0   \n",
      "443    Male  18.0    1.72    53.0                            yes  yes   2.0   \n",
      "460  Female  18.0    1.62    55.0                            yes  yes   2.0   \n",
      "466    Male  22.0    1.74    75.0                            yes  yes   3.0   \n",
      "467    Male  22.0    1.74    75.0                            yes  yes   3.0   \n",
      "496    Male  18.0    1.72    53.0                            yes  yes   2.0   \n",
      "524  Female  21.0    1.52    42.0                             no  yes   3.0   \n",
      "528  Female  21.0    1.52    42.0                             no  yes   3.0   \n",
      "660  Female  21.0    1.52    42.0                             no  yes   3.0   \n",
      "664  Female  21.0    1.52    42.0                             no  yes   3.0   \n",
      "764    Male  21.0    1.62    70.0                             no  yes   2.0   \n",
      "765    Male  21.0    1.62    70.0                             no  yes   2.0   \n",
      "826    Male  21.0    1.62    70.0                             no  yes   2.0   \n",
      "832    Male  21.0    1.62    70.0                             no  yes   2.0   \n",
      "833    Male  21.0    1.62    70.0                             no  yes   2.0   \n",
      "834    Male  21.0    1.62    70.0                             no  yes   2.0   \n",
      "835    Male  21.0    1.62    70.0                             no  yes   2.0   \n",
      "836    Male  21.0    1.62    70.0                             no  yes   2.0   \n",
      "924    Male  21.0    1.62    70.0                             no  yes   2.0   \n",
      "925    Male  21.0    1.62    70.0                             no  yes   2.0   \n",
      "926    Male  21.0    1.62    70.0                             no  yes   2.0   \n",
      "\n",
      "     NCP        CAEC SMOKE  CH2O SCC  FAF  TUE       CALC  \\\n",
      "97   1.0  Frequently    no   1.0  no  0.0  0.0  Sometimes   \n",
      "98   1.0  Frequently    no   1.0  no  0.0  0.0  Sometimes   \n",
      "105  1.0   Sometimes    no   2.0  no  2.0  0.0  Sometimes   \n",
      "106  1.0   Sometimes    no   2.0  no  2.0  0.0  Sometimes   \n",
      "145  1.0          no    no   3.0  no  1.0  0.0  Sometimes   \n",
      "174  1.0          no    no   3.0  no  1.0  0.0  Sometimes   \n",
      "179  1.0          no    no   3.0  no  1.0  0.0  Sometimes   \n",
      "184  1.0          no    no   3.0  no  1.0  0.0  Sometimes   \n",
      "208  3.0   Sometimes    no   2.0  no  1.0  1.0  Sometimes   \n",
      "209  3.0   Sometimes    no   2.0  no  1.0  1.0  Sometimes   \n",
      "282  3.0  Frequently    no   1.0  no  1.0  1.0         no   \n",
      "295  1.0   Sometimes    no   1.0  no  0.0  1.0         no   \n",
      "309  1.0   Sometimes    no   1.0  no  0.0  1.0         no   \n",
      "443  3.0   Sometimes    no   2.0  no  0.0  2.0  Sometimes   \n",
      "460  3.0  Frequently    no   1.0  no  1.0  1.0         no   \n",
      "466  3.0  Frequently    no   1.0  no  1.0  0.0         no   \n",
      "467  3.0  Frequently    no   1.0  no  1.0  0.0         no   \n",
      "496  3.0   Sometimes    no   2.0  no  0.0  2.0  Sometimes   \n",
      "524  1.0  Frequently    no   1.0  no  0.0  0.0  Sometimes   \n",
      "528  1.0  Frequently    no   1.0  no  0.0  0.0  Sometimes   \n",
      "660  1.0  Frequently    no   1.0  no  0.0  0.0  Sometimes   \n",
      "664  1.0  Frequently    no   1.0  no  0.0  0.0  Sometimes   \n",
      "764  1.0          no    no   3.0  no  1.0  0.0  Sometimes   \n",
      "765  1.0          no    no   3.0  no  1.0  0.0  Sometimes   \n",
      "826  1.0          no    no   3.0  no  1.0  0.0  Sometimes   \n",
      "832  1.0          no    no   3.0  no  1.0  0.0  Sometimes   \n",
      "833  1.0          no    no   3.0  no  1.0  0.0  Sometimes   \n",
      "834  1.0          no    no   3.0  no  1.0  0.0  Sometimes   \n",
      "835  1.0          no    no   3.0  no  1.0  0.0  Sometimes   \n",
      "836  1.0          no    no   3.0  no  1.0  0.0  Sometimes   \n",
      "924  1.0          no    no   3.0  no  1.0  0.0  Sometimes   \n",
      "925  1.0          no    no   3.0  no  1.0  0.0  Sometimes   \n",
      "926  1.0          no    no   3.0  no  1.0  0.0  Sometimes   \n",
      "\n",
      "                    MTRANS           NObeyesdad  \n",
      "97   Public_Transportation  Insufficient_Weight  \n",
      "98   Public_Transportation  Insufficient_Weight  \n",
      "105  Public_Transportation        Normal_Weight  \n",
      "106  Public_Transportation        Normal_Weight  \n",
      "145  Public_Transportation   Overweight_Level_I  \n",
      "174  Public_Transportation   Overweight_Level_I  \n",
      "179  Public_Transportation   Overweight_Level_I  \n",
      "184  Public_Transportation   Overweight_Level_I  \n",
      "208  Public_Transportation        Normal_Weight  \n",
      "209  Public_Transportation        Normal_Weight  \n",
      "282  Public_Transportation        Normal_Weight  \n",
      "295                Walking        Normal_Weight  \n",
      "309                Walking        Normal_Weight  \n",
      "443  Public_Transportation  Insufficient_Weight  \n",
      "460  Public_Transportation        Normal_Weight  \n",
      "466             Automobile        Normal_Weight  \n",
      "467             Automobile        Normal_Weight  \n",
      "496  Public_Transportation  Insufficient_Weight  \n",
      "524  Public_Transportation  Insufficient_Weight  \n",
      "528  Public_Transportation  Insufficient_Weight  \n",
      "660  Public_Transportation  Insufficient_Weight  \n",
      "664  Public_Transportation  Insufficient_Weight  \n",
      "764  Public_Transportation   Overweight_Level_I  \n",
      "765  Public_Transportation   Overweight_Level_I  \n",
      "826  Public_Transportation   Overweight_Level_I  \n",
      "832  Public_Transportation   Overweight_Level_I  \n",
      "833  Public_Transportation   Overweight_Level_I  \n",
      "834  Public_Transportation   Overweight_Level_I  \n",
      "835  Public_Transportation   Overweight_Level_I  \n",
      "836  Public_Transportation   Overweight_Level_I  \n",
      "924  Public_Transportation   Overweight_Level_I  \n",
      "925  Public_Transportation   Overweight_Level_I  \n",
      "926  Public_Transportation   Overweight_Level_I  \n"
     ]
    }
   ],
   "source": [
    "\n",
    "duplicates = df[df.duplicated(keep=False)]\n",
    "\n",
    "\n",
    "print(duplicates)\n"
   ]
  },
  {
   "cell_type": "markdown",
   "id": "e28a412e",
   "metadata": {},
   "source": [
    "I identified 24 duplicate records and decided to drop them"
   ]
  },
  {
   "cell_type": "code",
   "execution_count": 19,
   "id": "015b7a57",
   "metadata": {},
   "outputs": [
    {
     "name": "stdout",
     "output_type": "stream",
     "text": [
      "<class 'pandas.core.frame.DataFrame'>\n",
      "Int64Index: 2087 entries, 0 to 2110\n",
      "Data columns (total 17 columns):\n",
      " #   Column                          Non-Null Count  Dtype  \n",
      "---  ------                          --------------  -----  \n",
      " 0   Gender                          2087 non-null   object \n",
      " 1   Age                             2087 non-null   float64\n",
      " 2   Height                          2087 non-null   float64\n",
      " 3   Weight                          2087 non-null   float64\n",
      " 4   family_history_with_overweight  2087 non-null   object \n",
      " 5   FAVC                            2087 non-null   object \n",
      " 6   FCVC                            2087 non-null   float64\n",
      " 7   NCP                             2087 non-null   float64\n",
      " 8   CAEC                            2087 non-null   object \n",
      " 9   SMOKE                           2087 non-null   object \n",
      " 10  CH2O                            2087 non-null   float64\n",
      " 11  SCC                             2087 non-null   object \n",
      " 12  FAF                             2087 non-null   float64\n",
      " 13  TUE                             2087 non-null   float64\n",
      " 14  CALC                            2087 non-null   object \n",
      " 15  MTRANS                          2087 non-null   object \n",
      " 16  NObeyesdad                      2087 non-null   object \n",
      "dtypes: float64(8), object(9)\n",
      "memory usage: 293.5+ KB\n"
     ]
    }
   ],
   "source": [
    "clean_df = df.drop_duplicates()\n",
    "clean_df.info()"
   ]
  },
  {
   "cell_type": "code",
   "execution_count": 20,
   "id": "08c00455",
   "metadata": {},
   "outputs": [
    {
     "data": {
      "text/plain": [
       "Gender                            0\n",
       "Age                               0\n",
       "Height                            0\n",
       "Weight                            0\n",
       "family_history_with_overweight    0\n",
       "FAVC                              0\n",
       "FCVC                              0\n",
       "NCP                               0\n",
       "CAEC                              0\n",
       "SMOKE                             0\n",
       "CH2O                              0\n",
       "SCC                               0\n",
       "FAF                               0\n",
       "TUE                               0\n",
       "CALC                              0\n",
       "MTRANS                            0\n",
       "NObeyesdad                        0\n",
       "dtype: int64"
      ]
     },
     "execution_count": 20,
     "metadata": {},
     "output_type": "execute_result"
    }
   ],
   "source": [
    "clean_df.isnull().sum()\n"
   ]
  },
  {
   "cell_type": "markdown",
   "id": "fb3ae297",
   "metadata": {},
   "source": [
    "There is not missing values."
   ]
  },
  {
   "cell_type": "code",
   "execution_count": 22,
   "id": "867f9152",
   "metadata": {},
   "outputs": [
    {
     "data": {
      "image/png": "[encoded data removed]",
      "text/plain": [
       "<Figure size 640x480 with 1 Axes>"
      ]
     },
     "metadata": {},
     "output_type": "display_data"
    }
   ],
   "source": [
    "import seaborn as sns\n",
    "import matplotlib.pyplot as plt\n",
    "\n",
    "\n",
    "sns.boxplot(data=clean_df)\n",
    "plt.xticks(rotation=90)  \n",
    "plt.show()\n"
   ]
  },
  {
   "cell_type": "code",
   "execution_count": 23,
   "id": "6b2c7ae3",
   "metadata": {},
   "outputs": [
    {
     "data": {
      "image/png": "[encoded data removed]",
      "text/plain": [
       "<Figure size 640x480 with 1 Axes>"
      ]
     },
     "metadata": {},
     "output_type": "display_data"
    }
   ],
   "source": [
    "sns.boxplot(x=clean_df['Age'])\n",
    "plt.show()"
   ]
  },
  {
   "cell_type": "code",
   "execution_count": 24,
   "id": "ecc00691",
   "metadata": {},
   "outputs": [
    {
     "data": {
      "image/png": "[encoded data removed]",
      "text/plain": [
       "<Figure size 640x480 with 1 Axes>"
      ]
     },
     "metadata": {},
     "output_type": "display_data"
    }
   ],
   "source": [
    "sns.boxplot(x=clean_df['Weight'])\n",
    "plt.show()"
   ]
  },
  {
   "cell_type": "markdown",
   "id": "0ec9b5fa",
   "metadata": {},
   "source": [
    "I identified outliers in the boxplots, in columns related to personal information such as age and weight. However, I have decided not to remove them, as these values are realistic."
   ]
  },
  {
   "cell_type": "code",
   "execution_count": 30,
   "id": "79bb970f",
   "metadata": {},
   "outputs": [
    {
     "data": {
      "text/plain": [
       "array(['no', 'Sometimes', 'Frequently', 'Always'], dtype=object)"
      ]
     },
     "execution_count": 30,
     "metadata": {},
     "output_type": "execute_result"
    }
   ],
   "source": [
    "clean_df['CALC'].unique()"
   ]
  },
  {
   "cell_type": "code",
   "execution_count": 31,
   "id": "528c8910",
   "metadata": {},
   "outputs": [],
   "source": [
    "clean_df['CALC'] = clean_df['CALC'].replace('no', 'Never')"
   ]
  },
  {
   "cell_type": "code",
   "execution_count": 33,
   "id": "3ed74007",
   "metadata": {},
   "outputs": [
    {
     "data": {
      "text/plain": [
       "array(['Never', 'Sometimes', 'Frequently', 'Always'], dtype=object)"
      ]
     },
     "execution_count": 33,
     "metadata": {},
     "output_type": "execute_result"
    }
   ],
   "source": [
    "\n",
    "clean_df['CALC'] = clean_df['CALC'].replace('no', 'Never')\n",
    "\n",
    "\n",
    "clean_df['CALC'].unique()\n"
   ]
  },
  {
   "cell_type": "markdown",
   "id": "f9221816",
   "metadata": {},
   "source": [
    "I decided to replace 'no' with 'Never' since it makes more sense with the question"
   ]
  },
  {
   "cell_type": "markdown",
   "id": "ebc9c6f5",
   "metadata": {},
   "source": [
    "Additionally, since the data description mentions three countries (Mexico, Peru, and Colombia), I believe it’s important to note the absence of a 'demographic' variable (such as country or city) for a better analysis of obesity levels by region."
   ]
  },
  {
   "cell_type": "markdown",
   "id": "c001fd5b-4a7e-4577-bb9c-9a2697a2ffbc",
   "metadata": {},
   "source": [
    "### Time to load some data\n",
    "We need to define a name for the table that we are above to create in our database."
   ]
  },
  {
   "cell_type": "code",
   "execution_count": 34,
   "id": "2a691512-3bb4-4c84-a43e-1f901f602378",
   "metadata": {},
   "outputs": [
    {
     "data": {
      "text/plain": [
       "2087"
      ]
     },
     "execution_count": 34,
     "metadata": {},
     "output_type": "execute_result"
    }
   ],
   "source": [
    "table_name = r'clean_df'\n",
    "schema = r'cleaned' # schema we created this week.\n",
    "\n",
    "clean_df.to_sql(table_name, con=db_conn, if_exists='replace', index=False, schema=schema, chunksize=1000, method='multi')"
   ]
  },
  {
   "cell_type": "markdown",
   "id": "b4b10ab9-e730-40a8-8f22-324d1b6989b9",
   "metadata": {},
   "source": []
  }
 ],
 "metadata": {
  "kernelspec": {
   "display_name": "Python 3",
   "language": "python",
   "name": "python3"
  },
  "language_info": {
   "codemirror_mode": {
    "name": "ipython",
    "version": 3
   },
   "file_extension": ".py",
   "mimetype": "text/x-python",
   "name": "python",
   "nbconvert_exporter": "python",
   "pygments_lexer": "ipython3",
   "version": "3.9.6"
  }
 },
 "nbformat": 4,
 "nbformat_minor": 5
}
