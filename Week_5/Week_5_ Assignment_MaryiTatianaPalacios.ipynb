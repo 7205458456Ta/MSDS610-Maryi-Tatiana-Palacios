{
 "cells": [
  {
   "cell_type": "code",
   "execution_count": null,
   "id": "fcf65643-09ef-487e-ad79-98d8cc14e9a9",
   "metadata": {},
   "outputs": [],
   "source": [
    "\n",
    "import pandas as pd\n",
    "import numpy as np\n",
    "import seaborn as sns\n",
    "import matplotlib.pyplot as plt\n",
    "from sklearn.ensemble import RandomForestClassifier\n",
    "from sklearn.model_selection import train_test_split\n",
    "from sklearn.metrics import accuracy_score"
   ]
  },
  {
   "cell_type": "code",
   "execution_count": 22,
   "id": "5b4ea276",
   "metadata": {},
   "outputs": [],
   "source": [
    "from sqlalchemy import create_engine"
   ]
  },
  {
   "cell_type": "code",
   "execution_count": 23,
   "id": "bbd56ff9",
   "metadata": {},
   "outputs": [],
   "source": [
    "host = r'127.0.0.1' \n",
    "db = r'MSDS610' \n",
    "user = r'postgres' \n",
    "pw = r'7205458456' \n",
    "port = r'5432' \n",
    "schema = r'cleaned'"
   ]
  },
  {
   "cell_type": "code",
   "execution_count": 24,
   "id": "c789b32f",
   "metadata": {},
   "outputs": [],
   "source": [
    "db_conn = create_engine(\"postgresql://{}:{}@{}:{}/{}\".format(user, pw, host, port, db))"
   ]
  },
  {
   "cell_type": "code",
   "execution_count": 25,
   "id": "e453520f",
   "metadata": {},
   "outputs": [],
   "source": [
    "query = f\"SELECT * FROM {schema}.clean_df\" \n",
    "ObesityData2 = pd.read_sql(query, db_conn)"
   ]
  },
  {
   "cell_type": "code",
   "execution_count": 26,
   "id": "bc7bf96f",
   "metadata": {},
   "outputs": [],
   "source": [
    "ObesityData2 = ObesityData2.dropna()"
   ]
  },
  {
   "cell_type": "code",
   "execution_count": 27,
   "id": "8d20ce5d",
   "metadata": {},
   "outputs": [
    {
     "name": "stdout",
     "output_type": "stream",
     "text": [
      "   Gender   Age  Height  Weight family_history_with_overweight FAVC  FCVC  \\\n",
      "0  Female  21.0    1.62    64.0                            yes   no   2.0   \n",
      "1  Female  21.0    1.52    56.0                            yes   no   3.0   \n",
      "2    Male  23.0    1.80    77.0                            yes   no   2.0   \n",
      "3    Male  27.0    1.80    87.0                             no   no   3.0   \n",
      "4    Male  22.0    1.78    89.8                             no   no   2.0   \n",
      "\n",
      "   NCP       CAEC SMOKE  CH2O  SCC  FAF  TUE        CALC  \\\n",
      "0  3.0  Sometimes    no   2.0   no  0.0  1.0       Never   \n",
      "1  3.0  Sometimes   yes   3.0  yes  3.0  0.0   Sometimes   \n",
      "2  3.0  Sometimes    no   2.0   no  2.0  1.0  Frequently   \n",
      "3  3.0  Sometimes    no   2.0   no  2.0  0.0  Frequently   \n",
      "4  1.0  Sometimes    no   2.0   no  0.0  0.0   Sometimes   \n",
      "\n",
      "                  MTRANS           NObeyesdad  \n",
      "0  Public_Transportation        Normal_Weight  \n",
      "1  Public_Transportation        Normal_Weight  \n",
      "2  Public_Transportation        Normal_Weight  \n",
      "3                Walking   Overweight_Level_I  \n",
      "4  Public_Transportation  Overweight_Level_II  \n"
     ]
    }
   ],
   "source": [
    "print(ObesityData2.head())"
   ]
  },
  {
   "cell_type": "code",
   "execution_count": 28,
   "id": "667428d4-6ffc-4740-824b-218c27262584",
   "metadata": {},
   "outputs": [
    {
     "name": "stdout",
     "output_type": "stream",
     "text": [
      "<class 'pandas.core.frame.DataFrame'>\n",
      "RangeIndex: 2087 entries, 0 to 2086\n",
      "Data columns (total 17 columns):\n",
      " #   Column                          Non-Null Count  Dtype  \n",
      "---  ------                          --------------  -----  \n",
      " 0   Gender                          2087 non-null   object \n",
      " 1   Age                             2087 non-null   float64\n",
      " 2   Height                          2087 non-null   float64\n",
      " 3   Weight                          2087 non-null   float64\n",
      " 4   family_history_with_overweight  2087 non-null   object \n",
      " 5   FAVC                            2087 non-null   object \n",
      " 6   FCVC                            2087 non-null   float64\n",
      " 7   NCP                             2087 non-null   float64\n",
      " 8   CAEC                            2087 non-null   object \n",
      " 9   SMOKE                           2087 non-null   object \n",
      " 10  CH2O                            2087 non-null   float64\n",
      " 11  SCC                             2087 non-null   object \n",
      " 12  FAF                             2087 non-null   float64\n",
      " 13  TUE                             2087 non-null   float64\n",
      " 14  CALC                            2087 non-null   object \n",
      " 15  MTRANS                          2087 non-null   object \n",
      " 16  NObeyesdad                      2087 non-null   object \n",
      "dtypes: float64(8), object(9)\n",
      "memory usage: 277.3+ KB\n"
     ]
    }
   ],
   "source": [
    "ObesityData2.info()"
   ]
  },
  {
   "cell_type": "markdown",
   "id": "370c55a8-2259-4c3a-9445-b650ecb0b2b7",
   "metadata": {},
   "source": [
    "Analytical Question: What factors are most influential in classifying the level of obesity in individuals?"
   ]
  },
  {
   "cell_type": "code",
   "execution_count": 29,
   "id": "9868cc69",
   "metadata": {},
   "outputs": [
    {
     "name": "stdout",
     "output_type": "stream",
     "text": [
      "    Age  Height  Weight           NObeyesdad  Gender_Female  Gender_Male  \\\n",
      "0  21.0    1.62    64.0        Normal_Weight              1            0   \n",
      "1  21.0    1.52    56.0        Normal_Weight              1            0   \n",
      "2  23.0    1.80    77.0        Normal_Weight              0            1   \n",
      "3  27.0    1.80    87.0   Overweight_Level_I              0            1   \n",
      "4  22.0    1.78    89.8  Overweight_Level_II              0            1   \n",
      "\n",
      "   family_history_with_overweight_no  family_history_with_overweight_yes  \\\n",
      "0                                  0                                   1   \n",
      "1                                  0                                   1   \n",
      "2                                  0                                   1   \n",
      "3                                  1                                   0   \n",
      "4                                  1                                   0   \n",
      "\n",
      "   FAVC_no  FAVC_yes  ...  TUE_2.0  CALC_Always  CALC_Frequently  CALC_Never  \\\n",
      "0        1         0  ...        0            0                0           1   \n",
      "1        1         0  ...        0            0                0           0   \n",
      "2        1         0  ...        0            0                1           0   \n",
      "3        1         0  ...        0            0                1           0   \n",
      "4        1         0  ...        0            0                0           0   \n",
      "\n",
      "   CALC_Sometimes  MTRANS_Automobile  MTRANS_Bike  MTRANS_Motorbike  \\\n",
      "0               0                  0            0                 0   \n",
      "1               1                  0            0                 0   \n",
      "2               0                  0            0                 0   \n",
      "3               0                  0            0                 0   \n",
      "4               1                  0            0                 0   \n",
      "\n",
      "   MTRANS_Public_Transportation  MTRANS_Walking  \n",
      "0                             1               0  \n",
      "1                             1               0  \n",
      "2                             1               0  \n",
      "3                             0               1  \n",
      "4                             1               0  \n",
      "\n",
      "[5 rows x 5059 columns]\n"
     ]
    }
   ],
   "source": [
    "categorical_columns = ['Gender', 'family_history_with_overweight', 'FAVC', 'FCVC', \n",
    "                       'NCP', 'CAEC', 'SMOKE', 'CH2O', 'SCC', 'FAF', 'TUE', 'CALC', 'MTRANS']\n",
    "\n",
    "ObesityData2_dummies = pd.get_dummies(ObesityData2, columns=categorical_columns, drop_first=False)\n",
    "\n",
    "print(ObesityData2_dummies.head())\n",
    "\n"
   ]
  },
  {
   "cell_type": "markdown",
   "id": "d650c801-f2f0-4093-9c12-6a20996cb1d7",
   "metadata": {},
   "source": [
    "### Create the new manual features"
   ]
  },
  {
   "cell_type": "code",
   "execution_count": 30,
   "id": "d3bdebba-de35-4baf-b363-881344bcdd7f",
   "metadata": {},
   "outputs": [],
   "source": [
    "ObesityData2['BMI'] = ObesityData2['Weight'] / (ObesityData2['Height'] / 100) ** 2"
   ]
  },
  {
   "cell_type": "markdown",
   "id": "66802e7a",
   "metadata": {},
   "source": [
    "New Feature: BMI: is a key factor in obesity classification and will provide the model with a metric directly related to the level of obesity."
   ]
  },
  {
   "cell_type": "code",
   "execution_count": 31,
   "id": "ff87b5c9",
   "metadata": {},
   "outputs": [
    {
     "name": "stdout",
     "output_type": "stream",
     "text": [
      "['no' 'yes']\n"
     ]
    }
   ],
   "source": [
    "print(ObesityData2['SCC'].unique())"
   ]
  },
  {
   "cell_type": "code",
   "execution_count": 32,
   "id": "a97ded78",
   "metadata": {},
   "outputs": [],
   "source": [
    "ObesityData2['SCC'] = ObesityData2['SCC'].map({'no': 0, 'yes': 1})"
   ]
  },
  {
   "cell_type": "code",
   "execution_count": 33,
   "id": "a0a7009c",
   "metadata": {},
   "outputs": [
    {
     "name": "stdout",
     "output_type": "stream",
     "text": [
      "[0 1]\n"
     ]
    }
   ],
   "source": [
    "print(ObesityData2['SCC'].unique())"
   ]
  },
  {
   "cell_type": "code",
   "execution_count": 34,
   "id": "4afc3e57",
   "metadata": {},
   "outputs": [],
   "source": [
    "ObesityData2['Water_to_Calories_ratio'] = ObesityData2['CH2O'] / ObesityData2['SCC']"
   ]
  },
  {
   "cell_type": "markdown",
   "id": "60481691",
   "metadata": {},
   "source": [
    "New Feature: Water_to_Calories_ratio: People who drink more water and watch their calories may be more health conscious, which has a direct relationship to obesity."
   ]
  },
  {
   "cell_type": "code",
   "execution_count": 35,
   "id": "f8ff870e",
   "metadata": {},
   "outputs": [
    {
     "name": "stdout",
     "output_type": "stream",
     "text": [
      "['Sometimes' 'Frequently' 'Always' 'no']\n"
     ]
    }
   ],
   "source": [
    "print(ObesityData2['CAEC'].unique())\n"
   ]
  },
  {
   "cell_type": "code",
   "execution_count": 36,
   "id": "7a0c8e87",
   "metadata": {},
   "outputs": [],
   "source": [
    "ObesityData2['CAEC'] = ObesityData2['CAEC'].replace({'no': 0, 'Sometimes': 1, 'Frequently': 2, 'Always': 3})"
   ]
  },
  {
   "cell_type": "code",
   "execution_count": 37,
   "id": "5020e950",
   "metadata": {},
   "outputs": [],
   "source": [
    "ObesityData2['CAEC_IMC_Relationship'] = ObesityData2['CAEC'] * ObesityData2['BMI']"
   ]
  },
  {
   "cell_type": "markdown",
   "id": "4e27a4d2",
   "metadata": {},
   "source": [
    "New Feauture: CAEC_IMC_Relationship: This new feature could help detect whether people who tend to snack between meals and have a high BMI are more likely to be obese."
   ]
  },
  {
   "cell_type": "code",
   "execution_count": 38,
   "id": "38baf0d8",
   "metadata": {},
   "outputs": [],
   "source": [
    "ObesityData2['SMOKE'] = ObesityData2['SMOKE'].replace({'yes': 1, 'no': 0})"
   ]
  },
  {
   "cell_type": "code",
   "execution_count": 43,
   "id": "19766f63",
   "metadata": {},
   "outputs": [
    {
     "name": "stdout",
     "output_type": "stream",
     "text": [
      "[0 1]\n"
     ]
    }
   ],
   "source": [
    "print(ObesityData2['SMOKE'].unique())"
   ]
  },
  {
   "cell_type": "code",
   "execution_count": 39,
   "id": "75dd878f",
   "metadata": {},
   "outputs": [],
   "source": [
    "ObesityData2['Alcohol_Smoke_Ratio'] = ObesityData2['TUE'] / ObesityData2['SMOKE']"
   ]
  },
  {
   "cell_type": "markdown",
   "id": "90006a62",
   "metadata": {},
   "source": [
    "New Feature: Alcohol_Smoke_Ratio: This ratio can give us an idea of ​​how alcohol consumption is related to the tendency to smoke and, in turn, to obesity factors."
   ]
  },
  {
   "cell_type": "code",
   "execution_count": 44,
   "id": "7861518f",
   "metadata": {},
   "outputs": [],
   "source": [
    "ObesityData2['Alcohol_Smoke_Ratio'].fillna(ObesityData2['Alcohol_Smoke_Ratio'].mean(), inplace=True)"
   ]
  },
  {
   "cell_type": "code",
   "execution_count": 45,
   "id": "aecee169",
   "metadata": {},
   "outputs": [
    {
     "name": "stdout",
     "output_type": "stream",
     "text": [
      "<class 'pandas.core.frame.DataFrame'>\n",
      "RangeIndex: 2087 entries, 0 to 2086\n",
      "Data columns (total 21 columns):\n",
      " #   Column                          Non-Null Count  Dtype  \n",
      "---  ------                          --------------  -----  \n",
      " 0   Gender                          2087 non-null   object \n",
      " 1   Age                             2087 non-null   float64\n",
      " 2   Height                          2087 non-null   float64\n",
      " 3   Weight                          2087 non-null   float64\n",
      " 4   family_history_with_overweight  2087 non-null   object \n",
      " 5   FAVC                            2087 non-null   object \n",
      " 6   FCVC                            2087 non-null   float64\n",
      " 7   NCP                             2087 non-null   float64\n",
      " 8   CAEC                            2087 non-null   int64  \n",
      " 9   SMOKE                           2087 non-null   int64  \n",
      " 10  CH2O                            2087 non-null   float64\n",
      " 11  SCC                             2087 non-null   int64  \n",
      " 12  FAF                             2087 non-null   float64\n",
      " 13  TUE                             2087 non-null   float64\n",
      " 14  CALC                            2087 non-null   object \n",
      " 15  MTRANS                          2087 non-null   object \n",
      " 16  NObeyesdad                      2087 non-null   object \n",
      " 17  BMI                             2087 non-null   float64\n",
      " 18  Water_to_Calories_ratio         2087 non-null   float64\n",
      " 19  CAEC_IMC_Relationship           2087 non-null   float64\n",
      " 20  Alcohol_Smoke_Ratio             2087 non-null   float64\n",
      "dtypes: float64(12), int64(3), object(6)\n",
      "memory usage: 342.5+ KB\n"
     ]
    }
   ],
   "source": [
    "ObesityData2.info()"
   ]
  },
  {
   "cell_type": "code",
   "execution_count": 48,
   "id": "030cff00",
   "metadata": {},
   "outputs": [],
   "source": [
    "from sklearn.ensemble import RandomForestClassifier\n",
    "from sklearn.preprocessing import LabelEncoder"
   ]
  },
  {
   "cell_type": "code",
   "execution_count": 49,
   "id": "5e60d18d",
   "metadata": {},
   "outputs": [],
   "source": [
    "label_encoder = LabelEncoder()\n",
    "ObesityData2['Gender'] = label_encoder.fit_transform(ObesityData2['Gender'])\n",
    "ObesityData2['family_history_with_overweight'] = label_encoder.fit_transform(ObesityData2['family_history_with_overweight'])\n",
    "ObesityData2['FAVC'] = label_encoder.fit_transform(ObesityData2['FAVC'])\n",
    "ObesityData2['CALC'] = label_encoder.fit_transform(ObesityData2['CALC'])\n",
    "ObesityData2['MTRANS'] = label_encoder.fit_transform(ObesityData2['MTRANS'])\n",
    "ObesityData2['NObeyesdad'] = label_encoder.fit_transform(ObesityData2['NObeyesdad'])"
   ]
  },
  {
   "cell_type": "code",
   "execution_count": 51,
   "id": "d1b491b0",
   "metadata": {},
   "outputs": [],
   "source": [
    "X = ObesityData2.drop(columns=['NObeyesdad'])\n",
    "y = ObesityData2['NObeyesdad']\n",
    "\n",
    "X_train, X_test, y_train, y_test = train_test_split(X, y, test_size=0.2, random_state=42)\n"
   ]
  },
  {
   "cell_type": "code",
   "execution_count": 56,
   "id": "a07eee47",
   "metadata": {},
   "outputs": [],
   "source": [
    "import numpy as np\n",
    "\n",
    "X_train.replace([np.inf, -np.inf], 0, inplace=True)\n",
    "\n",
    "X_test.replace([np.inf, -np.inf], 0, inplace=True)\n"
   ]
  },
  {
   "cell_type": "code",
   "execution_count": 57,
   "id": "bd03b91e-c919-4f50-9f42-581e7b06414d",
   "metadata": {},
   "outputs": [],
   "source": [
    "clf = RandomForestClassifier(n_estimators=100, random_state=42)\n",
    "clf.fit(X_train, y_train)\n",
    "\n",
    "importances = clf.feature_importances_\n",
    "feature_names = X.columns\n",
    "feature_importance_df = pd.DataFrame({'Feature': feature_names, 'Importance': importances})\n",
    "feature_importance_df = feature_importance_df.sort_values(by='Importance', ascending=False)"
   ]
  },
  {
   "cell_type": "code",
   "execution_count": 58,
   "id": "723c9b39-1c57-4614-b824-684aaa7668cd",
   "metadata": {},
   "outputs": [
    {
     "data": {
      "image/png": "[encoded data removed]",
      "text/plain": [
       "<Figure size 1000x600 with 1 Axes>"
      ]
     },
     "metadata": {},
     "output_type": "display_data"
    }
   ],
   "source": [
    "plt.figure(figsize=(10,6))\n",
    "sns.barplot(x='Importance', y='Feature', data=feature_importance_df)\n",
    "plt.title(\"Feature Importance Analysis\")\n",
    "plt.show()"
   ]
  },
  {
   "cell_type": "markdown",
   "id": "2c4f9a90",
   "metadata": {},
   "source": [
    "cross_val_score: to obtain the average precision and standard deviation"
   ]
  },
  {
   "cell_type": "code",
   "execution_count": 60,
   "id": "190829f6",
   "metadata": {},
   "outputs": [
    {
     "name": "stdout",
     "output_type": "stream",
     "text": [
      "Average accuracy of cross-validation: 0.9838233443023864\n",
      "Standard deviation of cross-validation: 0.004058663099070925\n"
     ]
    }
   ],
   "source": [
    "from sklearn.model_selection import cross_val_score\n",
    "\n",
    "cv_scores = cross_val_score(clf, X_train, y_train, cv=5, scoring='accuracy')\n",
    "print(f\"Average accuracy of cross-validation: {cv_scores.mean()}\")\n",
    "print(f\"Standard deviation of cross-validation: {cv_scores.std()}\")\n"
   ]
  },
  {
   "cell_type": "markdown",
   "id": "7a3d8813",
   "metadata": {},
   "source": [
    "Analysis:\n",
    "\n",
    "Analytical Question: \n",
    "What factors are most important in classifying the level of obesity in individuals?\n",
    "The goal was to explore factors that contribute to obesity and use them to create a ML model.\n",
    "\n",
    "Features Created: I created 4 new features to help with the analysis:\n",
    "\n",
    "1. BMI (Body Mass Index): A key measure of obesity based on height and weight.\n",
    "2. Water_Calories_Ratio: Measures the relationship between water intake and calories consumed, as both can affect weight.\n",
    "3. CAEC_IMC_Relationship: Combines eating habits CAEC (Do you eat any food between meals?) with BMI to better understand how eating affects weight.\n",
    "4. Alcohol_Smoke_Ratio: Examines the relationship between alcohol consumption and smoking, as both can influence obesity.\n",
    "These features were chosen because they are directly related to factors that impact obesity, like diet and lifestyle.\n",
    "\n",
    "Performance: The models performance was very good:\n",
    "\n",
    "Average Accuracy: 98.38%\n",
    "Standard Deviation: 0.41%\n",
    "This shows the model is stable and performs well on different data sets.\n",
    "\n",
    "Feature Importance: The most important features for predicting obesity were:\n",
    "\n",
    "BMI\n",
    "CAEC_IMC_Relationship\n",
    "Weight\n",
    "FCVC (Do you usually eat vegetables in your meals?)\n",
    "These results make sense since these factors are closely linked to obesity.\n",
    "\n",
    "Concerns with Overfitting/Redundancy: The model showed no major signs of overfitting, as the accuracy was stable. \n",
    "\n",
    "Additional Evaluation: Besides feature importance, I also used cross-validation to check the model's reliability. This confirmed that the model performs well and is stable.\n",
    "\n",
    "Conclusion: The new features helped improve the model, and it performed excellently. Using different evaluation tools is important to getting a more complete picture of the model’s performance and reliability"
   ]
  },
  {
   "cell_type": "markdown",
   "id": "e12bd355",
   "metadata": {},
   "source": []
  }
 ],
 "metadata": {
  "kernelspec": {
   "display_name": "Python 3",
   "language": "python",
   "name": "python3"
  },
  "language_info": {
   "codemirror_mode": {
    "name": "ipython",
    "version": 3
   },
   "file_extension": ".py",
   "mimetype": "text/x-python",
   "name": "python",
   "nbconvert_exporter": "python",
   "pygments_lexer": "ipython3",
   "version": "3.9.6"
  }
 },
 "nbformat": 4,
 "nbformat_minor": 5
}
